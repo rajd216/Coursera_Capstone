{
    "cells": [
        {
            "cell_type": "markdown",
            "metadata": {
                "collapsed": true
            },
            "source": "## IBM Data Science Capstone Project"
        },
        {
            "cell_type": "markdown",
            "metadata": {},
            "source": "## Battle of Neighborhoods, part-1 (week-1)"
        },
        {
            "cell_type": "markdown",
            "metadata": {},
            "source": "### Introduction:"
        },
        {
            "cell_type": "markdown",
            "metadata": {},
            "source": "Napa Valley is a wine country located in Northern California, 50 miles Northeast of San Francisco (SFO). It is known for world-class wine, as well as beautiful countryside and near perfect weather year-round. Napa valley is an appellation or American Viticultural Area (AVA) that is used to identify where the grapes for a wine are grown and there are many wine appellations in CA state.\n\nNapa Valley is filled with iconic experiences, events and many things to do and it provides visitors with year-round reasons to visit. It has many wineries with plenty of grape varieties grown every year. Each winery is unique with tasting rooms, restaurants, wine shops, self-guided tours, and many more. Napa Valley consists of five distinctive towns or cities \u2013 Calistoga, St. Helena, Yountville, the city of Napa and American Canyon. Each town has its own unique identity that invites exploration."
        },
        {
            "cell_type": "markdown",
            "metadata": {},
            "source": "The city of Napa (or Napa), falls under Napa county and is a heart of Napa Valley and a remarkable destination for its arts & culture. There are many things to do in Napa such as - Breweries & Distilleries, virtual tasting rooms, Wine Trains & Tours, Hot Air Balloons, Wine & Culinary Classes. The city of Napa is a good developed area, diverse, multicultural, business friendly environment and it provides lot of business oppourtunities. It has attracted many different players into the market and is a major center for wineries and restaurants in the USA.\n\nAs Napa is a good developed area, the cost of doing business is expensive and at the same time the market is highly competitive. So, any new business startups or expansion needs to be analyzed carefully. The insights derived from analysis will give good understanding of the business environment such as factors like competition, location, demographics, much more, which helps strategically in targeting the market. This will help in reducing the risk and results in good ROI.\n"
        },
        {
            "cell_type": "markdown",
            "metadata": {},
            "source": "*(Source : https://www.visitnapavalley.com/)*"
        },
        {
            "cell_type": "markdown",
            "metadata": {},
            "source": "### Business Problem Description:"
        },
        {
            "cell_type": "markdown",
            "metadata": {},
            "source": "As Napa is diverse and multicultural city, there are many restaurants and many exciting places to eat breakfast, brunch, lunch and dinner prepared by world-class chefs. Also there are many local and internaltional cuisines such as Italian, South Asian, Europeon restaurants served food with many wine varieties made in Napa Valley and surroudings.\n\nIn order to open a new restaurant or to expand, it is clear and evident that to survive in such competitive market, startegic planning is crucial. Various factors need to be studied in order to decide on the Location in Napa such as:\n\n* Target Market or Target Demographics\n* Competitors and their Menus\n* Untapped markets\n* Accessibility and visibility\n* Proximity to Suppliers - local farmers or wholesale markets for the supply of ingredients and raw materials.\n* Venues like Gyms, Entertainmnet zones, theme Parks\n* Health Regulations and Zoning\n* Segmentation of the Borough\n\n& many more factors influences in opening new restaurant."
        },
        {
            "cell_type": "markdown",
            "metadata": {},
            "source": "#### About company"
        },
        {
            "cell_type": "markdown",
            "metadata": {},
            "source": "ABC catering Ltd, is a catering company offering their food services to companies' events and they decided to open it's first new theme based restaurant in Napa due to its uniqueness in culture and tourism. Eventhough ABC is well funded company, they need to choose the right location to start its first venture in Napa and if this is successful they can open their restaurants at other locations with the same theme or another within the Napa Vally. Getting success in the first move is very important, there by choosing the right location is crucial for the business.\n"
        },
        {
            "cell_type": "markdown",
            "metadata": {},
            "source": "### Target Audience:"
        },
        {
            "cell_type": "markdown",
            "metadata": {},
            "source": "To recommend the right location to the mamagement and board of directors of ABC catering Ltd. And as a Data Scientist my objective would be to locate which neighborhood of Napa city will be best choice to start a new theme based restaurant.\n\nThe company also expects to understand the rationale of the recommendations made and it would be helpful to anyone who wants to start a new restaurant in Napa city.\n\nThe success of the project will be based on a good recommendation of borough / neighborhood choice to ABC catering Ltd. "
        },
        {
            "cell_type": "code",
            "execution_count": null,
            "metadata": {},
            "outputs": [],
            "source": ""
        }
    ],
    "metadata": {
        "kernelspec": {
            "display_name": "Python 3.6",
            "language": "python",
            "name": "python3"
        },
        "language_info": {
            "codemirror_mode": {
                "name": "ipython",
                "version": 3
            },
            "file_extension": ".py",
            "mimetype": "text/x-python",
            "name": "python",
            "nbconvert_exporter": "python",
            "pygments_lexer": "ipython3",
            "version": "3.6.9"
        }
    },
    "nbformat": 4,
    "nbformat_minor": 1
}